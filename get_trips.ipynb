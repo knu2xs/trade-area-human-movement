{
 "cells": [
  {
   "cell_type": "code",
   "execution_count": 1,
   "metadata": {},
   "outputs": [],
   "source": [
    "from arcgis.gis import GIS, Item\n",
    "import os\n",
    "\n",
    "item_id = 'b23955c522ec47548dc355bb5fd79d1c'\n",
    "field_store_id_alias = 'Store ID'\n",
    "file_root = 'demo_trips'"
   ]
  },
  {
   "cell_type": "code",
   "execution_count": 2,
   "metadata": {},
   "outputs": [
    {
     "data": {
      "text/html": [
       "GIS @ <a href=\"https://commteamretail.maps.arcgis.com\">https://commteamretail.maps.arcgis.com</a>"
      ],
      "text/plain": [
       "<arcgis.gis.GIS at 0x10bf4e2e8>"
      ]
     },
     "execution_count": 2,
     "metadata": {},
     "output_type": "execute_result"
    }
   ],
   "source": [
    "gis = GIS(url='https://commteamretail.maps.arcgis.com')\n",
    "gis"
   ]
  },
  {
   "cell_type": "code",
   "execution_count": 3,
   "metadata": {},
   "outputs": [
    {
     "data": {
      "text/plain": [
       "<FeatureLayer url:\"https://services.arcgis.com/PMTtzuTB6WiPuNSv/arcgis/rest/services/National_Store_Locations/FeatureServer/0\">"
      ]
     },
     "execution_count": 3,
     "metadata": {},
     "output_type": "execute_result"
    }
   ],
   "source": [
    "feature_layer = Item(gis, item_id).layers[0]\n",
    "feature_layer"
   ]
  },
  {
   "cell_type": "code",
   "execution_count": 4,
   "metadata": {},
   "outputs": [
    {
     "data": {
      "text/plain": [
       "'NationalStoreLocations_Local__3'"
      ]
     },
     "execution_count": 4,
     "metadata": {},
     "output_type": "execute_result"
    }
   ],
   "source": [
    "field_store_id = [field.name for field in feature_layer.properties.fields if field.alias == field_store_id_alias][0]\n",
    "field_store_id"
   ]
  },
  {
   "cell_type": "code",
   "execution_count": 5,
   "metadata": {},
   "outputs": [
    {
     "data": {
      "text/plain": [
       "<FeatureSet> 3156 features"
      ]
     },
     "execution_count": 5,
     "metadata": {},
     "output_type": "execute_result"
    }
   ],
   "source": [
    "feature_set = feature_layer.query(out_fields=field_store_id, out_sr={'wkid': 4326})\n",
    "feature_set"
   ]
  },
  {
   "cell_type": "code",
   "execution_count": 6,
   "metadata": {},
   "outputs": [
    {
     "data": {
      "text/html": [
       "<div>\n",
       "<style scoped>\n",
       "    .dataframe tbody tr th:only-of-type {\n",
       "        vertical-align: middle;\n",
       "    }\n",
       "\n",
       "    .dataframe tbody tr th {\n",
       "        vertical-align: top;\n",
       "    }\n",
       "\n",
       "    .dataframe thead th {\n",
       "        text-align: right;\n",
       "    }\n",
       "</style>\n",
       "<table border=\"1\" class=\"dataframe\">\n",
       "  <thead>\n",
       "    <tr style=\"text-align: right;\">\n",
       "      <th></th>\n",
       "      <th>store_id</th>\n",
       "      <th>SHAPE</th>\n",
       "    </tr>\n",
       "  </thead>\n",
       "  <tbody>\n",
       "    <tr>\n",
       "      <th>0</th>\n",
       "      <td>96</td>\n",
       "      <td>{'x': -86.49607497200131, 'y': 39.155960926931...</td>\n",
       "    </tr>\n",
       "    <tr>\n",
       "      <th>1</th>\n",
       "      <td>97</td>\n",
       "      <td>{'x': -122.18647465212695, 'y': 47.71139930792...</td>\n",
       "    </tr>\n",
       "    <tr>\n",
       "      <th>2</th>\n",
       "      <td>98</td>\n",
       "      <td>{'x': -122.10074581765247, 'y': 37.65401004768...</td>\n",
       "    </tr>\n",
       "    <tr>\n",
       "      <th>3</th>\n",
       "      <td>99</td>\n",
       "      <td>{'x': -76.83241134100487, 'y': 39.277317841688...</td>\n",
       "    </tr>\n",
       "    <tr>\n",
       "      <th>4</th>\n",
       "      <td>100</td>\n",
       "      <td>{'x': -119.32970923096121, 'y': 36.22602745380...</td>\n",
       "    </tr>\n",
       "  </tbody>\n",
       "</table>\n",
       "</div>"
      ],
      "text/plain": [
       "   store_id                                              SHAPE\n",
       "0        96  {'x': -86.49607497200131, 'y': 39.155960926931...\n",
       "1        97  {'x': -122.18647465212695, 'y': 47.71139930792...\n",
       "2        98  {'x': -122.10074581765247, 'y': 37.65401004768...\n",
       "3        99  {'x': -76.83241134100487, 'y': 39.277317841688...\n",
       "4       100  {'x': -119.32970923096121, 'y': 36.22602745380..."
      ]
     },
     "execution_count": 6,
     "metadata": {},
     "output_type": "execute_result"
    }
   ],
   "source": [
    "sdf = feature_set.df\n",
    "sdf.drop('OBJECTID', axis=1, inplace=True)\n",
    "sdf.columns = ['store_id', 'SHAPE']\n",
    "sdf.head()"
   ]
  },
  {
   "cell_type": "code",
   "execution_count": 7,
   "metadata": {},
   "outputs": [],
   "source": [
    "from inrix import TAZ\n",
    "import json\n",
    "\n",
    "credentials_path = './resources/credentials.json'\n",
    "credentials = json.load(open(credentials_path))"
   ]
  },
  {
   "cell_type": "code",
   "execution_count": 8,
   "metadata": {},
   "outputs": [
    {
     "data": {
      "text/plain": [
       "<inrix.utilities.TAZ at 0x1107ddba8>"
      ]
     },
     "execution_count": 8,
     "metadata": {},
     "output_type": "execute_result"
    }
   ],
   "source": [
    "taz = TAZ(\n",
    "    app_id=credentials['inrix']['app_id'],\n",
    "    hash_token=credentials['inrix']['hash_id']\n",
    ")\n",
    "taz"
   ]
  },
  {
   "cell_type": "code",
   "execution_count": 9,
   "metadata": {},
   "outputs": [],
   "source": [
    "def get_exisiting(directory, file_root):\n",
    "    f_list = [f for f in os.listdir(directory) if os.path.isfile(f) and f.endswith('.csv') and f.startswith(file_root)]\n",
    "    f_list = [f.split('.')[0] for f in f_list]\n",
    "    return [int(f.split('_').pop()) for f in f_list]"
   ]
  },
  {
   "cell_type": "code",
   "execution_count": null,
   "metadata": {},
   "outputs": [
    {
     "name": "stdout",
     "output_type": "stream",
     "text": [
      "Remaining location count: 2504\n",
      "Retrieved and saved for Store ID 748 - 1/2504\n",
      "Retrieved and saved for Store ID 749 - 2/2504\n",
      "Retrieved and saved for Store ID 750 - 3/2504\n",
      "Retrieved and saved for Store ID 751 - 4/2504\n",
      "Retrieved and saved for Store ID 752 - 5/2504\n",
      "Retrieved and saved for Store ID 753 - 6/2504\n",
      "Retrieved and saved for Store ID 754 - 7/2504\n",
      "Retrieved and saved for Store ID 755 - 8/2504\n",
      "Retrieved and saved for Store ID 756 - 9/2504\n",
      "Retrieved and saved for Store ID 757 - 10/2504\n",
      "Retrieved and saved for Store ID 758 - 11/2504\n",
      "Retrieved and saved for Store ID 759 - 12/2504\n",
      "Retrieved and saved for Store ID 760 - 13/2504\n",
      "Retrieved and saved for Store ID 761 - 14/2504\n",
      "Retrieved and saved for Store ID 762 - 15/2504\n",
      "Retrieved and saved for Store ID 763 - 16/2504\n",
      "Retrieved and saved for Store ID 764 - 17/2504\n",
      "Retrieved and saved for Store ID 765 - 18/2504\n"
     ]
    }
   ],
   "source": [
    "locnum_list = [store_id for store_id in sdf.store_id if store_id not in get_exisiting('.', file_root)]\n",
    "remaining_count = len(locnum_list)\n",
    "print('Remaining location count: {}'.format(remaining_count))\n",
    "\n",
    "for index, store_id in enumerate(locnum_list):\n",
    "    \n",
    "    row = sdf.loc[sdf.store_id == store_id].iloc[0]\n",
    "    \n",
    "    sdf_this = taz.get_trip_destination_spatial_dataframe(row.SHAPE.y, row.SHAPE.x, '300m')\n",
    "    sdf_this['store_id'] = row.store_id\n",
    "    \n",
    "    sdf_this.to_csv('demo_trips_{}.csv'.format(row.store_id))\n",
    "    \n",
    "    print('Retrieved and saved for Store ID {} - {}/{}'.format(row.store_id, index+1, remaining_count))"
   ]
  },
  {
   "cell_type": "code",
   "execution_count": null,
   "metadata": {},
   "outputs": [],
   "source": []
  }
 ],
 "metadata": {
  "kernelspec": {
   "display_name": "Python 3",
   "language": "python",
   "name": "python3"
  },
  "language_info": {
   "codemirror_mode": {
    "name": "ipython",
    "version": 3
   },
   "file_extension": ".py",
   "mimetype": "text/x-python",
   "name": "python",
   "nbconvert_exporter": "python",
   "pygments_lexer": "ipython3",
   "version": "3.6.4"
  }
 },
 "nbformat": 4,
 "nbformat_minor": 2
}
